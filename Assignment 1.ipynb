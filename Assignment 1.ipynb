{
 "cells": [
  {
   "cell_type": "markdown",
   "id": "e6972a0f",
   "metadata": {},
   "source": [
    "# Lower Triangular Pattern containing the \"*\" character.\n"
   ]
  },
  {
   "cell_type": "code",
   "execution_count": 1,
   "id": "728e17af",
   "metadata": {},
   "outputs": [
    {
     "name": "stdout",
     "output_type": "stream",
     "text": [
      "*\n",
      "**\n",
      "***\n",
      "****\n",
      "*****\n",
      "******\n"
     ]
    }
   ],
   "source": [
    "def lower_triangle_pattern(n):   # Where n represent the no of rows \n",
    "    for i in range(1, n + 1):\n",
    "        print(\"*\" * i)\n",
    "        \n",
    "lower_triangle_pattern(6)"
   ]
  },
  {
   "cell_type": "markdown",
   "id": "6f267eff",
   "metadata": {},
   "source": [
    "# Upper triangular Pattern containing the \"*\" character."
   ]
  },
  {
   "cell_type": "code",
   "execution_count": 3,
   "id": "67271d25",
   "metadata": {},
   "outputs": [
    {
     "name": "stdout",
     "output_type": "stream",
     "text": [
      "*******\n",
      " ******\n",
      "  *****\n",
      "   ****\n",
      "    ***\n",
      "     **\n",
      "      *\n"
     ]
    }
   ],
   "source": [
    "def upper_triangle_pattern(n):       # Where n represent the no of rows \n",
    "    for i in range(n, 0, -1):\n",
    "        print(\" \" * (n - i) + \"*\" * i)\n",
    "\n",
    "upper_triangle_pattern(7)"
   ]
  },
  {
   "cell_type": "markdown",
   "id": "9c34fc1c",
   "metadata": {},
   "source": [
    "#  Pyramid containing the \"*\" character."
   ]
  },
  {
   "cell_type": "code",
   "execution_count": 4,
   "id": "73abed6e",
   "metadata": {},
   "outputs": [
    {
     "name": "stdout",
     "output_type": "stream",
     "text": [
      "   *\n",
      "  ***\n",
      " *****\n",
      "*******\n"
     ]
    }
   ],
   "source": [
    "def pyramid_pattern(n):                        # Where n represent the no of rows  \n",
    "    for i in range(1, n + 1):\n",
    "        print(\" \" * (n - i) + \"*\" * (2 * i - 1))\n",
    "\n",
    "# Example\n",
    "pyramid_pattern(4)\n"
   ]
  },
  {
   "cell_type": "code",
   "execution_count": null,
   "id": "d6a0b72a",
   "metadata": {},
   "outputs": [],
   "source": []
  }
 ],
 "metadata": {
  "kernelspec": {
   "display_name": "Python 3 (ipykernel)",
   "language": "python",
   "name": "python3"
  },
  "language_info": {
   "codemirror_mode": {
    "name": "ipython",
    "version": 3
   },
   "file_extension": ".py",
   "mimetype": "text/x-python",
   "name": "python",
   "nbconvert_exporter": "python",
   "pygments_lexer": "ipython3",
   "version": "3.10.9"
  }
 },
 "nbformat": 4,
 "nbformat_minor": 5
}
