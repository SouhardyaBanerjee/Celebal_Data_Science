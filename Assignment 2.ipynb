{
 "cells": [
  {
   "cell_type": "markdown",
   "id": "105089c1",
   "metadata": {},
   "source": [
    "# Create a Python program that implements a singly linked list using Object-Oriented Programming (OOP) principles. Your implementation should include the following: A Node class to represent each node in the list. A LinkedList class to manage the nodes, with methods to: Add a node to the end of the list Print the list Delete the nth node (where n is a 1-based index) Include exception handling to manage edge cases such as: Deleting a node from an empty list Deleting a node with an index out of range Test your implementation with at least one sample list."
   ]
  },
  {
   "cell_type": "markdown",
   "id": "d7ec5a2c",
   "metadata": {},
   "source": [
    "# 1.Singly Linked List(Node Class)"
   ]
  },
  {
   "cell_type": "code",
   "execution_count": 19,
   "id": "ab4a446a",
   "metadata": {},
   "outputs": [],
   "source": [
    "class Node:\n",
    "    def __init__(self, data):             # Node class Represents each node in the list\n",
    "        self.data = data\n",
    "        self.next = None"
   ]
  },
  {
   "cell_type": "markdown",
   "id": "7312b694",
   "metadata": {},
   "source": [
    "# 2.Linked List Class(To manage,Add,Print,Delete)"
   ]
  },
  {
   "cell_type": "markdown",
   "id": "22fedba8",
   "metadata": {},
   "source": [
    "# (i) Class to manage and add the new node at the end of the list"
   ]
  },
  {
   "cell_type": "code",
   "execution_count": 20,
   "id": "d2147a74",
   "metadata": {},
   "outputs": [],
   "source": [
    "class LinkedList:\n",
    "    def __init__(self):                   # To manages the singly linked list\n",
    "        self.head = None\n",
    "\n",
    "    def add_new_node(self, data):\n",
    "        new_node = Node(data)              # Adds a node to the end of the list\n",
    "        if not self.head:\n",
    "            self.head = new_node\n",
    "            return\n",
    "        temp = self.head\n",
    "        while temp.next:                    # Add\n",
    "            temp = temp.next\n",
    "        temp.next = new_node\n"
   ]
  },
  {
   "cell_type": "markdown",
   "id": "1028a5f0",
   "metadata": {},
   "source": [
    "# (ii)Method to print the linked list"
   ]
  },
  {
   "cell_type": "code",
   "execution_count": 21,
   "id": "10465a5d",
   "metadata": {},
   "outputs": [],
   "source": [
    " def print_linked_list(self):\n",
    "        if not self.head:                    # Prints all elements in the list\n",
    "            print(\"The List is empty.\")\n",
    "            return\n",
    "        temp = self.head\n",
    "        while temp:\n",
    "            print(temp.data, end=\"->\")        # Print\n",
    "            temp = temp.next\n",
    "        print(\"None\")\n"
   ]
  },
  {
   "cell_type": "markdown",
   "id": "7c66fa18",
   "metadata": {},
   "source": [
    "# (iii) Method to delete the nth node from the linked list"
   ]
  },
  {
   "cell_type": "code",
   "execution_count": 22,
   "id": "c36b92f6",
   "metadata": {},
   "outputs": [],
   "source": [
    " def delete_nth_node(self, n):\n",
    "        #Try block\n",
    "        try:                                      # Deletes the nth node (where n is 1-based index) from the list\n",
    "            if n <= 0:\n",
    "                raise IndexError(\"Index is greater than 0.\")            # index>0\n",
    "            if not self.head:\n",
    "                raise Exception(\"Cannot be deleted\")                    # List is empty    \n",
    "                \n",
    "            if n == 1:\n",
    "                print(f\"Deleting node {n} with value {self.head.data}\")     # Delete 1\n",
    "                self.head = self.head.next\n",
    "                return\n",
    "\n",
    "            temp = self.head\n",
    "            count = 1\n",
    "\n",
    "            while temp and count < n - 1:\n",
    "                temp = temp.next\n",
    "                count =count +1\n",
    "\n",
    "            if not temp or not temp.next:\n",
    "                raise IndexError(\"Index out of range.\")                  # Overflow\n",
    "\n",
    "            print(f\"Deleting node {n} with value {temp.next.data}\")          # Delete 2\n",
    "            temp.next = temp.next.next\n",
    "        # Except Block\n",
    "        except Exception as e:\n",
    "            print(f\"Error: {e}\")"
   ]
  },
  {
   "cell_type": "markdown",
   "id": "ea98bce9",
   "metadata": {},
   "source": [
    "# .Final Output"
   ]
  },
  {
   "cell_type": "code",
   "execution_count": 23,
   "id": "3e379d20",
   "metadata": {},
   "outputs": [
    {
     "name": "stdout",
     "output_type": "stream",
     "text": [
      "list:\n",
      "10->20->30->40->None\n",
      "Deleting node 3 with value 30\n",
      "\n",
      "List after deleting 3rd node:\n",
      "10->20->40->None\n",
      "Error: Index out of range.\n",
      "Deleting node 1 with value 10\n",
      "\n",
      "List after deleting head:\n",
      "20->40->None\n",
      "Deleting node 1 with value 20\n",
      "Deleting node 1 with value 40\n",
      "Error: Cannot be deleted\n"
     ]
    }
   ],
   "source": [
    "class Node:\n",
    "    def __init__(self, data):             # Node class Represents each node in the list\n",
    "        self.data = data\n",
    "        self.next = None\n",
    "class LinkedList:\n",
    "    def __init__(self):                   # To manages the singly linked list\n",
    "        self.head = None\n",
    "\n",
    "    def add_new_node(self, data):\n",
    "        new_node = Node(data)              # Adds a node to the end of the list\n",
    "        if not self.head:\n",
    "            self.head = new_node\n",
    "            return\n",
    "        temp = self.head\n",
    "        while temp.next:                    # Add\n",
    "            temp = temp.next\n",
    "        temp.next = new_node\n",
    "    def print_linked_list(self):\n",
    "        if not self.head:                    # Prints all elements in the list\n",
    "            print(\"The List is empty.\")\n",
    "            return\n",
    "        temp = self.head\n",
    "        while temp:\n",
    "            print(temp.data, end=\"->\")        # Print\n",
    "            temp = temp.next\n",
    "        print(\"None\")\n",
    "    def delete_nth_node(self, n):\n",
    "        try:                                      # Deletes the nth node (where n is 1-based index) from the list\n",
    "            if n <= 0:\n",
    "                raise IndexError(\"Index is greater than 0.\")            # index>0\n",
    "            if not self.head:\n",
    "                raise Exception(\"Cannot be deleted\")                    # List is empty    \n",
    "                \n",
    "            if n == 1:\n",
    "                print(f\"Deleting node {n} with value {self.head.data}\")     # Delete 1\n",
    "                self.head = self.head.next\n",
    "                return\n",
    "\n",
    "            temp = self.head\n",
    "            count = 1\n",
    "\n",
    "            while temp and count < n - 1:\n",
    "                temp = temp.next\n",
    "                count =count +1\n",
    "\n",
    "            if not temp or not temp.next:\n",
    "                raise IndexError(\"Index out of range.\")                  # Overflow\n",
    "\n",
    "            print(f\"Deleting node {n} with value {temp.next.data}\")          # Delete 2\n",
    "            temp.next = temp.next.next\n",
    "\n",
    "        except Exception as e:\n",
    "            print(f\"Error: {e}\")\n",
    "            \n",
    "     # TEST       \n",
    "            \n",
    "if __name__ == \"__main__\":\n",
    "    ll = LinkedList()                                          # Adding nodes one after another\n",
    "    ll.add_new_node(10)\n",
    "    ll.add_new_node(20)\n",
    "    ll.add_new_node(30)\n",
    "    ll.add_new_node(40)                                       \n",
    "    print(\"list:\")\n",
    "    ll.print_linked_list()                                       # 10 -> 20 -> 30 -> 40 -> None\n",
    "\n",
    "    # Deleting node at index 3\n",
    "    ll.delete_nth_node(3)                                         # 30\n",
    "    print(\"\\nList after deleting 3rd node:\")\n",
    "    ll.print_linked_list()                                     # 10 -> 20 -> 40 -> None                                    \n",
    "\n",
    "    # Attempt to delete node at index 10 (out of range)\n",
    "    ll.delete_nth_node(10)                                               # Error\n",
    "\n",
    "    # Delete head\n",
    "    ll.delete_nth_node(1)                                        # Edge Case\n",
    "    print(\"\\nList after deleting head:\")\n",
    "    ll.print_linked_list()                                           # 20 -> 40 -> None                  \n",
    "    ll.delete_nth_node(1)\n",
    "    ll.delete_nth_node(1)\n",
    "    ll.delete_nth_node(1)                                     # Empty"
   ]
  }
 ],
 "metadata": {
  "kernelspec": {
   "display_name": "Python 3 (ipykernel)",
   "language": "python",
   "name": "python3"
  },
  "language_info": {
   "codemirror_mode": {
    "name": "ipython",
    "version": 3
   },
   "file_extension": ".py",
   "mimetype": "text/x-python",
   "name": "python",
   "nbconvert_exporter": "python",
   "pygments_lexer": "ipython3",
   "version": "3.10.9"
  }
 },
 "nbformat": 4,
 "nbformat_minor": 5
}
